{
  "nbformat": 4,
  "nbformat_minor": 0,
  "metadata": {
    "colab": {
      "provenance": [],
      "authorship_tag": "ABX9TyNjzcjGoZziF9jR1gJ2noel",
      "include_colab_link": true
    },
    "kernelspec": {
      "name": "python3",
      "display_name": "Python 3"
    },
    "language_info": {
      "name": "python"
    }
  },
  "cells": [
    {
      "cell_type": "markdown",
      "metadata": {
        "id": "view-in-github",
        "colab_type": "text"
      },
      "source": [
        "<a href=\"https://colab.research.google.com/github/ParvathyS1103/Basic-python-for-Machine-Learning/blob/main/Python_Codes.ipynb\" target=\"_parent\"><img src=\"https://colab.research.google.com/assets/colab-badge.svg\" alt=\"Open In Colab\"/></a>"
      ]
    },
    {
      "cell_type": "markdown",
      "source": [
        "#1. Program to find largest of three numbers\n",
        "- **Step 1:**Read the numbers from user\n",
        "- **Step 2:**Find the largest of three numbers using `If-Else-If`conditionals.\n",
        "- **Step 3:**Print the largest number"
      ],
      "metadata": {
        "id": "eWGfwwCWAY3R"
      }
    },
    {
      "cell_type": "code",
      "source": [
        "num1=float(input(\"Enter the first number:\"))\n",
        "num2=float(input(\"Enter the second number:\"))\n",
        "num3=float(input(\"Enter the third number:\"))\n",
        "if (num1 >= num2) and (num1 >= num3):\n",
        "   largest = num1\n",
        "elif (num2 >= num1) and (num2 >= num3):\n",
        "   largest = num2\n",
        "else:\n",
        "   largest = num3\n",
        "print(\"The largest number is\", largest)"
      ],
      "metadata": {
        "colab": {
          "base_uri": "https://localhost:8080/"
        },
        "id": "SLb05d9ZA7LB",
        "outputId": "d451e5ac-6ad5-46b4-c05d-8b5d40ea80ce"
      },
      "execution_count": null,
      "outputs": [
        {
          "output_type": "stream",
          "name": "stdout",
          "text": [
            "Enter the first number:55\n",
            "Enter the second number:13\n",
            "Enter the third number:89\n",
            "The largest number is 89.0\n"
          ]
        }
      ]
    },
    {
      "cell_type": "markdown",
      "source": [
        "#2.Printing Multiplication table\n",
        "- **Step 1:**Read a number from the user\n",
        "- **Step 2:**Iterate the i from 1 to 10.\n",
        "- **Step 3:**Print the Multiplication table of the number."
      ],
      "metadata": {
        "id": "UIsPOp9zC9Ki"
      }
    },
    {
      "cell_type": "code",
      "source": [
        "a=int(input(\"Enter the number\"))\n",
        "for i in range(1,11):\n",
        "    print(a,'X',i,'=',a*i)"
      ],
      "metadata": {
        "colab": {
          "base_uri": "https://localhost:8080/"
        },
        "id": "zm1nHU_pDvbD",
        "outputId": "a107e1bd-414e-4016-b027-772c21a48e17"
      },
      "execution_count": null,
      "outputs": [
        {
          "output_type": "stream",
          "name": "stdout",
          "text": [
            "Enter the number2\n",
            "2 X 1 = 2\n",
            "2 X 2 = 4\n",
            "2 X 3 = 6\n",
            "2 X 4 = 8\n",
            "2 X 5 = 10\n",
            "2 X 6 = 12\n",
            "2 X 7 = 14\n",
            "2 X 8 = 16\n",
            "2 X 9 = 18\n",
            "2 X 10 = 20\n"
          ]
        }
      ]
    },
    {
      "cell_type": "markdown",
      "source": [
        "#3.Check for sign of a number\n",
        "- **Step 1:**Read the number from the user\n",
        "- **Step 2:**Find the sign of the number using `If-Else-If` conditionals.\n",
        "- **Step 3:**Print the sign of the Number."
      ],
      "metadata": {
        "id": "KhWmE1zREyiR"
      }
    },
    {
      "cell_type": "code",
      "source": [
        "a=float(input(\"Enter the number\"))\n",
        "if a > 0:\n",
        "  print(a,\"is a Positive number\")\n",
        "elif a== 0:\n",
        "  print(\"a is equal to zero\")\n",
        "else:\n",
        "  print(a,\"is a negative number\")     \n"
      ],
      "metadata": {
        "colab": {
          "base_uri": "https://localhost:8080/"
        },
        "id": "kVZhKRjTFfqI",
        "outputId": "45fe6c45-402c-4294-b5e0-fc7ca7b872c4"
      },
      "execution_count": null,
      "outputs": [
        {
          "output_type": "stream",
          "name": "stdout",
          "text": [
            "Enter the number-3\n",
            "-3.0 is a negative number\n"
          ]
        }
      ]
    },
    {
      "cell_type": "markdown",
      "source": [
        "#4.Find the Surface area and volume of a cylinder\n",
        "- **Step1:**Enter the radius and height of a cylinder\n",
        "- **Step2:**Calculate the Surface area and volume of a cylinder using the equation.\n",
        "$$SA=2\\pi r(r+h)$$\n",
        "$$V=\\pi r^2h$$ \n",
        "- **Step3:**Print the Surface area and the volume of the cylinder. "
      ],
      "metadata": {
        "id": "gKvyPGdTGs9y"
      }
    },
    {
      "cell_type": "code",
      "source": [
        "pi=3.14\n",
        "r=2\n",
        "h=3\n",
        "SA=2*pi*r*(r+h)\n",
        "V=pi*r**2*h\n",
        "print(\"SA of a cylinder is {} and volume is {}\".format(SA,V))"
      ],
      "metadata": {
        "colab": {
          "base_uri": "https://localhost:8080/"
        },
        "id": "aPSb0CrZHuwb",
        "outputId": "b6bc2cb6-fb4a-4263-aa27-812c811a44b0"
      },
      "execution_count": null,
      "outputs": [
        {
          "output_type": "stream",
          "name": "stdout",
          "text": [
            "SA of a cylinder is 62.800000000000004 and volume is 37.68\n"
          ]
        }
      ]
    },
    {
      "cell_type": "markdown",
      "source": [
        "#5.Find area of a circle with radius r using user input\n",
        "- **Step 1:**Read the radius $r$ from the user.\n",
        "- **Step 2:**Calculate the area usring the equation \n",
        "$$A=\\pi r^2$$ \n",
        "- **Step 3:**Print the area of the circle.\n",
        "\n",
        "```\n",
        "# This is formatted as code\n",
        "```\n",
        "\n"
      ],
      "metadata": {
        "id": "64DMM49YIdxr"
      }
    },
    {
      "cell_type": "code",
      "source": [
        "r=float(input(\"Enter the radius:\"))\n",
        "pi=3.14\n",
        "A=pi*r**2\n",
        "print(\"Area of a circle is:\",A)"
      ],
      "metadata": {
        "colab": {
          "base_uri": "https://localhost:8080/"
        },
        "id": "VzqPufv2KOpD",
        "outputId": "4e51ab15-137f-4404-bdae-5e943e588bcd"
      },
      "execution_count": null,
      "outputs": [
        {
          "output_type": "stream",
          "name": "stdout",
          "text": [
            "Enter the radius:2\n",
            "Area of a circle is: 12.56\n"
          ]
        }
      ]
    },
    {
      "cell_type": "markdown",
      "source": [
        "#6.Find the area of a rectangle with lenght $l$ and breadth $b$ using users input.\n",
        "- **Step 1:**Enter the length $l$ and breadth $b$ of a reactangle.\n",
        "- **Step 2:**Calculate the area of a reactangle using \n",
        "A=$l$*$b$\n",
        "- **Step 3:**Print the area of the rectangle."
      ],
      "metadata": {
        "id": "5KwBzPATKyJ6"
      }
    },
    {
      "cell_type": "code",
      "source": [
        "l=float(input(\"Enter the length\"))\n",
        "b=float(input(\"Enter the breadth\"))\n",
        "A=l*b\n",
        "print(\"Area of a rectangle is:\",A)\n"
      ],
      "metadata": {
        "colab": {
          "base_uri": "https://localhost:8080/"
        },
        "id": "Z8v2AtKHLnsb",
        "outputId": "e399af34-a04b-42d6-f6cd-e948759b1735"
      },
      "execution_count": null,
      "outputs": [
        {
          "output_type": "stream",
          "name": "stdout",
          "text": [
            "Enter the length10\n",
            "Enter the breadth5\n",
            "Area of a rectangle is: 50.0\n"
          ]
        }
      ]
    },
    {
      "cell_type": "markdown",
      "source": [
        "#7.Replacing a word from a sentence with another word.\n",
        "- **Step 1:**Enter the string.\n",
        "- **Step 2:**Replace the word with new word using `replace()`\n",
        "- **Step 3:**Print the replaced sentence."
      ],
      "metadata": {
        "id": "PYenrjlIMRU6"
      }
    },
    {
      "cell_type": "code",
      "source": [
        "text='Basic python Examples'\n",
        "replaced_text=text.replace('Examples','Codes')\n",
        "print(replaced_text)"
      ],
      "metadata": {
        "colab": {
          "base_uri": "https://localhost:8080/"
        },
        "id": "4j84uczXNNsc",
        "outputId": "667bb505-f4dc-4b22-d424-b8116da31ee2"
      },
      "execution_count": null,
      "outputs": [
        {
          "output_type": "stream",
          "name": "stdout",
          "text": [
            "Basic python Codes\n"
          ]
        }
      ]
    },
    {
      "cell_type": "markdown",
      "source": [],
      "metadata": {
        "id": "GFTjMlNwOeHb"
      }
    },
    {
      "cell_type": "markdown",
      "source": [],
      "metadata": {
        "id": "FSfBwJ_DBuAS"
      }
    }
  ]
}