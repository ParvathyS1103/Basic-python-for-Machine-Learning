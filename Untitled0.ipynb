{
  "nbformat": 4,
  "nbformat_minor": 0,
  "metadata": {
    "colab": {
      "provenance": [],
      "authorship_tag": "ABX9TyNuVgDtjZ6w72AeYByALHcY",
      "include_colab_link": true
    },
    "kernelspec": {
      "name": "python3",
      "display_name": "Python 3"
    },
    "language_info": {
      "name": "python"
    }
  },
  "cells": [
    {
      "cell_type": "markdown",
      "metadata": {
        "id": "view-in-github",
        "colab_type": "text"
      },
      "source": [
        "<a href=\"https://colab.research.google.com/github/ParvathyS1103/Basic-python-for-Machine-Learning/blob/main/Untitled0.ipynb\" target=\"_parent\"><img src=\"https://colab.research.google.com/assets/colab-badge.svg\" alt=\"Open In Colab\"/></a>"
      ]
    },
    {
      "cell_type": "markdown",
      "source": [
        "Defining a Variable"
      ],
      "metadata": {
        "id": "rv79lkWwCygD"
      }
    },
    {
      "cell_type": "code",
      "source": [
        "var1=100\n",
        "var2=\"Parvathy\"\n",
        "var3=5.15\n",
        "print(var1,var2,var3)"
      ],
      "metadata": {
        "colab": {
          "base_uri": "https://localhost:8080/"
        },
        "id": "APkLNHl2C4Yv",
        "outputId": "2083c80d-bb37-432f-ce19-d9b069b0727d"
      },
      "execution_count": 6,
      "outputs": [
        {
          "output_type": "stream",
          "name": "stdout",
          "text": [
            "100 Parvathy 5.15\n",
            "10\n"
          ]
        }
      ]
    },
    {
      "cell_type": "markdown",
      "source": [
        "Assignments"
      ],
      "metadata": {
        "id": "AEfJdPn6EWWW"
      }
    },
    {
      "cell_type": "code",
      "source": [
        "a=b=c=5\n",
        "print(a,b,c)\n",
        "a,b,c=1,\"one\",1.0\n",
        "print(a,b,c)"
      ],
      "metadata": {
        "colab": {
          "base_uri": "https://localhost:8080/"
        },
        "id": "WgOPObuREY4d",
        "outputId": "3cfe4590-1f60-4c02-abaa-e4858cdc542c"
      },
      "execution_count": 8,
      "outputs": [
        {
          "output_type": "stream",
          "name": "stdout",
          "text": [
            "5 5 5\n",
            "1 one 1.0\n"
          ]
        }
      ]
    },
    {
      "cell_type": "markdown",
      "source": [
        "Slicing-Different string operations"
      ],
      "metadata": {
        "id": "MKbkRCO-FHvB"
      }
    },
    {
      "cell_type": "code",
      "source": [
        "str=\"Hello world\"\n",
        "print(str)\n",
        "print(str[3])\n",
        "print(str[1:3])\n",
        "print(str[:2])\n",
        "print(str*3)\n",
        "print(str+\"hai\")"
      ],
      "metadata": {
        "colab": {
          "base_uri": "https://localhost:8080/"
        },
        "id": "WwatLwbeFPgr",
        "outputId": "93154171-9a18-495c-b4de-6bb6c1495c99"
      },
      "execution_count": 9,
      "outputs": [
        {
          "output_type": "stream",
          "name": "stdout",
          "text": [
            "Hello world\n",
            "l\n",
            "el\n",
            "He\n",
            "Hello worldHello worldHello world\n",
            "Hello worldhai\n"
          ]
        }
      ]
    },
    {
      "cell_type": "markdown",
      "source": [
        "Data types"
      ],
      "metadata": {
        "id": "UizeLtkIGf40"
      }
    },
    {
      "cell_type": "code",
      "source": [
        "list=[1,1,100]\n",
        "tuple=(1,1,100)\n",
        "print(tuple[:2])\n",
        "\n"
      ],
      "metadata": {
        "colab": {
          "base_uri": "https://localhost:8080/"
        },
        "id": "D5MyF1lSGjOC",
        "outputId": "2cd0f295-9b73-4162-d69b-7ab5a8b36025"
      },
      "execution_count": 18,
      "outputs": [
        {
          "output_type": "stream",
          "name": "stdout",
          "text": [
            "(1, 1)\n"
          ]
        }
      ]
    },
    {
      "cell_type": "code",
      "source": [
        "list=['csdc','abcd']\n",
        "print(list[0])\n",
        "tuple=('csdc','abcd')\n",
        "print(tuple[0])"
      ],
      "metadata": {
        "colab": {
          "base_uri": "https://localhost:8080/"
        },
        "id": "REkkQfrZH9mM",
        "outputId": "1e6dc219-0d12-4e3d-94aa-7fc3c59ab031"
      },
      "execution_count": 19,
      "outputs": [
        {
          "output_type": "stream",
          "name": "stdout",
          "text": [
            "csdc\n",
            "csdc\n"
          ]
        }
      ]
    },
    {
      "cell_type": "markdown",
      "source": [
        "Conditioning and  looping"
      ],
      "metadata": {
        "id": "gdvHfY2XeeNt"
      }
    },
    {
      "cell_type": "code",
      "source": [
        "\n",
        "for i in range(0,5):\n",
        "    \n",
        "    if i%2 == 0:\n",
        "        print(\"Square of \",i,\" is :\",i*i)\n",
        "        \n",
        "    else:\n",
        "        print(i,\"is an odd number\")  "
      ],
      "metadata": {
        "colab": {
          "base_uri": "https://localhost:8080/"
        },
        "id": "_gLp6OUoei-G",
        "outputId": "c5d4a8a4-d5c4-4005-ed40-3b2e93c44b7d"
      },
      "execution_count": 9,
      "outputs": [
        {
          "output_type": "stream",
          "name": "stdout",
          "text": [
            "Square of  0  is : 0\n",
            "1 is an odd number\n",
            "Square of  2  is : 4\n",
            "3 is an odd number\n",
            "Square of  4  is : 16\n"
          ]
        }
      ]
    },
    {
      "cell_type": "markdown",
      "source": [
        "Built in Functions"
      ],
      "metadata": {
        "id": "ShFwKIGSgqIP"
      }
    },
    {
      "cell_type": "markdown",
      "source": [],
      "metadata": {
        "id": "_zbGkijDh1yo"
      }
    },
    {
      "cell_type": "code",
      "source": [
        "print(\"Sum of array: \",sum([1,2,3,4]))\n",
        "print(\"Length of array: \",len([1,2,3,4]))\n",
        "print(\"Absolute value: \",abs(-1234))\n",
        "print(\"Round value: \",round(1.2234))\n",
        "\n",
        "import math as mt      # importing a package\n",
        "print(\"Log value: \",mt.log(10))"
      ],
      "metadata": {
        "colab": {
          "base_uri": "https://localhost:8080/"
        },
        "id": "DHAMLFbwg9Xp",
        "outputId": "278c55bf-1636-45d1-9af9-410a035778fa"
      },
      "execution_count": 10,
      "outputs": [
        {
          "output_type": "stream",
          "name": "stdout",
          "text": [
            "Sum of array:  10\n",
            "Length of array:  4\n",
            "Absolute value:  1234\n",
            "Round value:  1\n",
            "Log value:  2.302585092994046\n"
          ]
        }
      ]
    },
    {
      "cell_type": "markdown",
      "source": [
        "Functions"
      ],
      "metadata": {
        "id": "wr4CdFEjh5qG"
      }
    },
    {
      "cell_type": "code",
      "source": [
        "def area(length,width):\n",
        "    return length*width\n",
        "a = area(5,2)\n",
        "print(\"Area of rectangle:\",a)\n",
        "        "
      ],
      "metadata": {
        "colab": {
          "base_uri": "https://localhost:8080/"
        },
        "id": "MqOgVKrSh8zW",
        "outputId": "966d8bdf-f3e6-45ec-9736-7fcf30de7416"
      },
      "execution_count": 35,
      "outputs": [
        {
          "output_type": "stream",
          "name": "stdout",
          "text": [
            "Area of rectangle: 10\n"
          ]
        }
      ]
    },
    {
      "cell_type": "markdown",
      "source": [
        "Numpy"
      ],
      "metadata": {
        "id": "zDeaBj93r1lW"
      }
    },
    {
      "cell_type": "code",
      "source": [
        "import numpy as np   # Importing libraries\n",
        "\n",
        "a = np.array([1, 2, 3])\n",
        "b = np.array([5, 6, 7])\n",
        "\n",
        "print(\"Matrix A\\n\", a)\n",
        "print(\"Matrix B\\n\", b)\n",
        "\n",
        "print(\"Regular matrix addition A+B\\n\", a + b)\n",
        "\n",
        "print(\"Addition using Broadcasting A+5\\n\", a + 5)"
      ],
      "metadata": {
        "colab": {
          "base_uri": "https://localhost:8080/"
        },
        "id": "wKZYiQ5Sr4QY",
        "outputId": "a9c09c5a-4064-40f5-b68d-ad9f6466b3f9"
      },
      "execution_count": 37,
      "outputs": [
        {
          "output_type": "stream",
          "name": "stdout",
          "text": [
            "Matrix A\n",
            " [1 2 3]\n",
            "Matrix B\n",
            " [5 6 7]\n",
            "Regular matrix addition A+B\n",
            " [ 6  8 10]\n",
            "Addition using Broadcasting A+5\n",
            " [6 7 8]\n"
          ]
        }
      ]
    },
    {
      "cell_type": "markdown",
      "source": [
        "Broadcasting Rules"
      ],
      "metadata": {
        "id": "BJqtqwvetH2P"
      }
    },
    {
      "cell_type": "code",
      "source": [
        "c = np.array([[0, 1, 2],[3, 4, 5],[6, 7, 8]])\n",
        "d = np.array([[1, 2, 3],[1, 2, 3],[1, 2, 3]])\n",
        "\n",
        "e = np.array([1, 2, 3])\n",
        "\n",
        "print(\"Matrix C\\n\", c)\n",
        "print(\"Matrix D\\n\", d)\n",
        "print(\"Matrix E\\n\", e)\n",
        "\n",
        "print(\"Regular matrix addition C+D\\n\", c + d)\n",
        "\n",
        "print(\"Addition using Broadcasting C+E\\n\", c + e)"
      ],
      "metadata": {
        "colab": {
          "base_uri": "https://localhost:8080/"
        },
        "id": "LtQSr2EutLIh",
        "outputId": "817d52fc-78e2-4ba7-c2a7-f557b68c5cea"
      },
      "execution_count": 38,
      "outputs": [
        {
          "output_type": "stream",
          "name": "stdout",
          "text": [
            "Matrix C\n",
            " [[0 1 2]\n",
            " [3 4 5]\n",
            " [6 7 8]]\n",
            "Matrix D\n",
            " [[1 2 3]\n",
            " [1 2 3]\n",
            " [1 2 3]]\n",
            "Matrix E\n",
            " [1 2 3]\n",
            "Regular matrix addition C+D\n",
            " [[ 1  3  5]\n",
            " [ 4  6  8]\n",
            " [ 7  9 11]]\n",
            "Addition using Broadcasting C+E\n",
            " [[ 1  3  5]\n",
            " [ 4  6  8]\n",
            " [ 7  9 11]]\n"
          ]
        }
      ]
    },
    {
      "cell_type": "markdown",
      "source": [
        "Unvectorized implementations"
      ],
      "metadata": {
        "id": "_kwTMkdntf-s"
      }
    },
    {
      "cell_type": "code",
      "source": [
        "import numpy as np\n",
        "mat_a = [[6, 7, 8],[5, 4, 5],[1, 1, 1]]\n",
        "mat_b = [[1, 2, 3],[1, 2, 3],[1, 2, 3]]\n",
        "\n",
        "\n",
        "def get_row(matrix, row):\n",
        "    return matrix[row]\n",
        "\n",
        "\n",
        "def get_column(matrix, column_number):\n",
        "    column = []\n",
        " \n",
        "    for i in range(len(matrix)):\n",
        "        column.append(matrix[i][column_number])\n",
        " \n",
        "    return column\n",
        "\n",
        "\n",
        "def unv_dot_product(vector_one, vector_two):\n",
        "    total = 0\n",
        " \n",
        "    if len(vector_one) != len(vector_two):\n",
        "        return total\n",
        " \n",
        "    for i in range(len(vector_one)):\n",
        "        product = vector_one[i] * vector_two[i]\n",
        "        total += product\n",
        " \n",
        "    return total\n",
        "\n",
        "def matrix_multiplication(matrix_one, matrix_two):\n",
        "    m_rows = len(matrix_one)\n",
        "    p_columns = len(matrix_two[0])\n",
        "    result = []\n",
        "    \n",
        "    for i in range(m_rows):\n",
        "        row_result = []\n",
        " \n",
        "        for j in range(p_columns):\n",
        "            row = get_row(matrix_one, i)\n",
        "            column = get_column(matrix_two, j)\n",
        "            product = unv_dot_product(row, column)\n",
        "            \n",
        "            row_result.append(product) \n",
        "        result.append(row_result)\n",
        "        \n",
        "    return result\n",
        "\n",
        "print(\"Matrix A: \", mat_a,\"\\n\")\n",
        "print(\"Matrix B: \", mat_b,\"\\n\")\n",
        "print(\"Unvectorized Matrix Multiplication\\n\",matrix_multiplication(mat_a,mat_b),\"\\n\")\n"
      ],
      "metadata": {
        "colab": {
          "base_uri": "https://localhost:8080/"
        },
        "id": "NLpSQyaotkqO",
        "outputId": "6544ecf8-ed9f-48a5-b6f6-0639492f4e51"
      },
      "execution_count": 39,
      "outputs": [
        {
          "output_type": "stream",
          "name": "stdout",
          "text": [
            "Matrix A:  [[6, 7, 8], [5, 4, 5], [1, 1, 1]] \n",
            "\n",
            "Matrix B:  [[1, 2, 3], [1, 2, 3], [1, 2, 3]] \n",
            "\n",
            "Unvectorized Matrix Multiplication\n",
            " [[21, 42, 63], [14, 28, 42], [3, 6, 9]] \n",
            "\n"
          ]
        }
      ]
    },
    {
      "cell_type": "markdown",
      "source": [
        "Vectorized Implementations"
      ],
      "metadata": {
        "id": "5o2_GEYcuLws"
      }
    },
    {
      "cell_type": "code",
      "source": [
        "npm_a = np.array(mat_a)\n",
        "npm_b = np.array(mat_b)\n",
        "\n",
        "print(\"Vectorized Matrix Multiplication\\n\",npm_a.dot(npm_b),\"\\n\") "
      ],
      "metadata": {
        "colab": {
          "base_uri": "https://localhost:8080/"
        },
        "id": "RsS95a8DuStV",
        "outputId": "aa4e831e-1ffb-4ec3-eb6d-6e0378d98473"
      },
      "execution_count": 40,
      "outputs": [
        {
          "output_type": "stream",
          "name": "stdout",
          "text": [
            "Vectorized Matrix Multiplication\n",
            " [[21 42 63]\n",
            " [14 28 42]\n",
            " [ 3  6  9]] \n",
            "\n"
          ]
        }
      ]
    },
    {
      "cell_type": "markdown",
      "source": [
        "Matrix properties"
      ],
      "metadata": {
        "id": "AylxDdoaLYDj"
      }
    },
    {
      "cell_type": "code",
      "source": [
        "import numpy as np\n",
        "matrix = np.array([[1, 2, 3],\n",
        "                   [4, 5, 6],\n",
        "                   [7, 8, 9]])\n",
        "\n",
        "print(\"Matrix Shape:\",matrix.shape)\n",
        "print(\"Number of elements:\",matrix.size)\n",
        "print(\"Number of dimentions:\",matrix.ndim)\n",
        "print(\"Average of matrix:\",np.mean(matrix))\n",
        "print(\"Maximum number:\",np.max(matrix))\n",
        "print(\"Coloumn with minimum numbers:\",np.min(matrix, axis=1))\n",
        "print(\"Diagnol of matrix:\",matrix.diagonal())\n",
        "print(\"Determinant of matrix:\",np.linalg.det(matrix))\n",
        "\n",
        "\n",
        "\n"
      ],
      "metadata": {
        "colab": {
          "base_uri": "https://localhost:8080/"
        },
        "id": "30hwtu2bLZ2V",
        "outputId": "8fb07829-9dd7-4e7a-c772-2c8504aef0cb"
      },
      "execution_count": 2,
      "outputs": [
        {
          "output_type": "stream",
          "name": "stdout",
          "text": [
            "Matrix Shape: (3, 3)\n",
            "Number of elements: 9\n",
            "Number of dimentions: 2\n",
            "Average of matrix: 5.0\n",
            "Maximum number: 9\n",
            "Coloumn with minimum numbers: [1 4 7]\n",
            "Diagnol of matrix: [1 5 9]\n",
            "Determinant of matrix: 0.0\n"
          ]
        }
      ]
    }
  ]
}