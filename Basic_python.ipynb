{
  "nbformat": 4,
  "nbformat_minor": 0,
  "metadata": {
    "colab": {
      "provenance": [],
      "authorship_tag": "ABX9TyPx47E535lfZ0ELnYaO4ICr",
      "include_colab_link": true
    },
    "kernelspec": {
      "name": "python3",
      "display_name": "Python 3"
    },
    "language_info": {
      "name": "python"
    }
  },
  "cells": [
    {
      "cell_type": "markdown",
      "metadata": {
        "id": "view-in-github",
        "colab_type": "text"
      },
      "source": [
        "<a href=\"https://colab.research.google.com/github/ParvathyS1103/Basic-python-for-Machine-Learning/blob/main/Basic_python.ipynb\" target=\"_parent\"><img src=\"https://colab.research.google.com/assets/colab-badge.svg\" alt=\"Open In Colab\"/></a>"
      ]
    },
    {
      "cell_type": "markdown",
      "source": [
        "# Introduction to `Python`\n",
        "First programme:Display a Hello "
      ],
      "metadata": {
        "id": "I5-vFmp57Jb2"
      }
    },
    {
      "cell_type": "code",
      "source": [
        "print(\"Hello\")"
      ],
      "metadata": {
        "colab": {
          "base_uri": "https://localhost:8080/"
        },
        "id": "6tSj9Hd87613",
        "outputId": "46bf3e35-e239-48d5-b6ed-dfe42cc7963b"
      },
      "execution_count": 1,
      "outputs": [
        {
          "output_type": "stream",
          "name": "stdout",
          "text": [
            "Hello\n"
          ]
        }
      ]
    },
    {
      "cell_type": "markdown",
      "source": [
        ">Programme to assign an integer and display"
      ],
      "metadata": {
        "id": "dnErFbwm9RKr"
      }
    },
    {
      "cell_type": "markdown",
      "source": [
        "Programme to find the sum of two numbers"
      ],
      "metadata": {
        "id": "wmlSW5q19o6n"
      }
    },
    {
      "cell_type": "code",
      "source": [
        "a=10\n",
        "b=20 \n",
        "c=a+b\n",
        "print(\"the sum of numbers is:\",c)"
      ],
      "metadata": {
        "colab": {
          "base_uri": "https://localhost:8080/"
        },
        "id": "ju1RfnWg9vuD",
        "outputId": "21a1de15-6ba1-4744-955b-a0355beaab9f"
      },
      "execution_count": 5,
      "outputs": [
        {
          "output_type": "stream",
          "name": "stdout",
          "text": [
            "the sum of numbers is: 30\n"
          ]
        }
      ]
    },
    {
      "cell_type": "markdown",
      "source": [
        "Read two numbers from user and find the sum"
      ],
      "metadata": {
        "id": "Dm-1_2Cw-X4M"
      }
    },
    {
      "cell_type": "code",
      "source": [
        "a=int(input(\"enter the first no:\"))  #here input function read values as string.int() cast it into integer.\n",
        "b=int(input(\"enter the second no\"))\n"
      ],
      "metadata": {
        "colab": {
          "base_uri": "https://localhost:8080/"
        },
        "id": "gTOXgQiS-hyr",
        "outputId": "1de9b6e9-e522-4509-9624-d5062f04fff3"
      },
      "execution_count": 9,
      "outputs": [
        {
          "name": "stdout",
          "output_type": "stream",
          "text": [
            "enter the first no:5\n",
            "enter the second no10\n"
          ]
        }
      ]
    },
    {
      "cell_type": "code",
      "source": [
        "# displaying a and b\n",
        "print(a) "
      ],
      "metadata": {
        "colab": {
          "base_uri": "https://localhost:8080/"
        },
        "id": "b-5ebRWo_AZ0",
        "outputId": "45f934d5-5a9a-4fb8-ed91-7590a3de67e9"
      },
      "execution_count": 7,
      "outputs": [
        {
          "output_type": "stream",
          "name": "stdout",
          "text": [
            "5\n"
          ]
        }
      ]
    },
    {
      "cell_type": "code",
      "source": [
        "sum=a+b\n",
        "print(sum)"
      ],
      "metadata": {
        "colab": {
          "base_uri": "https://localhost:8080/"
        },
        "id": "_2CtyN7B_MAc",
        "outputId": "7538347e-7956-4e05-b206-272672c3e952"
      },
      "execution_count": 10,
      "outputs": [
        {
          "output_type": "stream",
          "name": "stdout",
          "text": [
            "15\n"
          ]
        }
      ]
    },
    {
      "cell_type": "code",
      "source": [
        "a=10\n",
        "print(\"Value of the variable a is:\",a)"
      ],
      "metadata": {
        "colab": {
          "base_uri": "https://localhost:8080/"
        },
        "id": "z0bFzIRk8qWl",
        "outputId": "48d4b88a-a2d9-4365-aab3-cea728b544ec"
      },
      "execution_count": 3,
      "outputs": [
        {
          "output_type": "stream",
          "name": "stdout",
          "text": [
            "Value of the variable a is: 10\n"
          ]
        }
      ]
    }
  ]
}